{
 "cells": [
  {
   "cell_type": "code",
   "execution_count": 9,
   "id": "cb65129f-117d-44e0-a851-3f9320a283d2",
   "metadata": {},
   "outputs": [
    {
     "data": {
      "text/plain": [
       "29"
      ]
     },
     "execution_count": 9,
     "metadata": {},
     "output_type": "execute_result"
    }
   ],
   "source": [
    "a = 15\n",
    "b = 14\n",
    "a + b"
   ]
  },
  {
   "cell_type": "code",
   "execution_count": 10,
   "id": "529a6c6b-71d6-4f10-a426-b0d65f6edbb9",
   "metadata": {},
   "outputs": [
    {
     "data": {
      "text/plain": [
       "1"
      ]
     },
     "execution_count": 10,
     "metadata": {},
     "output_type": "execute_result"
    }
   ],
   "source": [
    "a = 15\n",
    "b = 14\n",
    "a - b\n"
   ]
  },
  {
   "cell_type": "code",
   "execution_count": 13,
   "id": "3901e9ad-6381-4215-9ddb-0a75fab5b549",
   "metadata": {},
   "outputs": [
    {
     "data": {
      "text/plain": [
       "60"
      ]
     },
     "execution_count": 13,
     "metadata": {},
     "output_type": "execute_result"
    }
   ],
   "source": [
    "15*4"
   ]
  },
  {
   "cell_type": "code",
   "execution_count": 28,
   "id": "f4734642-107e-4b37-b949-0db063b35c2d",
   "metadata": {},
   "outputs": [
    {
     "data": {
      "text/plain": [
       "1.0714285714285714"
      ]
     },
     "execution_count": 28,
     "metadata": {},
     "output_type": "execute_result"
    }
   ],
   "source": [
    "15 / 14"
   ]
  },
  {
   "cell_type": "code",
   "execution_count": 27,
   "id": "df36d196-6def-4ecf-b847-faf9f3ddc3fa",
   "metadata": {},
   "outputs": [
    {
     "data": {
      "text/plain": [
       "1"
      ]
     },
     "execution_count": 27,
     "metadata": {},
     "output_type": "execute_result"
    }
   ],
   "source": [
    "15 // 14"
   ]
  },
  {
   "cell_type": "code",
   "execution_count": 30,
   "id": "14bf6179-5853-4f57-bc96-0d62ed56ecb4",
   "metadata": {},
   "outputs": [
    {
     "data": {
      "text/plain": [
       "1"
      ]
     },
     "execution_count": 30,
     "metadata": {},
     "output_type": "execute_result"
    }
   ],
   "source": [
    "15 % 14"
   ]
  },
  {
   "cell_type": "code",
   "execution_count": null,
   "id": "9a89b475-edac-462a-9c20-80ead8bbe209",
   "metadata": {},
   "outputs": [],
   "source": [
    "Q2. Check the type and convert: (num1 = 10, num2 = 5.6, num3 = 4.43, num4='23')\n",
    "\n",
    "    Integer to float\n",
    "\n",
    "    Float to integer\n",
    "\n",
    "    Float to String\n",
    "\n",
    "    String to Integer"
   ]
  },
  {
   "cell_type": "code",
   "execution_count": 65,
   "id": "e2cf158b-f95b-4cd9-b484-42d84fa884e6",
   "metadata": {},
   "outputs": [
    {
     "name": "stdout",
     "output_type": "stream",
     "text": [
      "10.0\n",
      "<class 'float'>\n"
     ]
    }
   ],
   "source": [
    "num1 = 10\n",
    "num1 = float(num1)\n",
    "print(num1)\n",
    "print(type(num1))"
   ]
  },
  {
   "cell_type": "code",
   "execution_count": 64,
   "id": "f0997f3f-ec31-4d8e-9e8d-8268aee48ea7",
   "metadata": {},
   "outputs": [
    {
     "name": "stdout",
     "output_type": "stream",
     "text": [
      "5\n",
      "<class 'int'>\n"
     ]
    }
   ],
   "source": [
    "num2 = 5.6\n",
    "num2 = int(5.6)\n",
    "print(num2)\n",
    "print(type(5))"
   ]
  },
  {
   "cell_type": "code",
   "execution_count": 9,
   "id": "c111a28b-735b-4d93-8db2-1d4c4e3b7ed4",
   "metadata": {},
   "outputs": [
    {
     "name": "stdout",
     "output_type": "stream",
     "text": [
      "4.43\n",
      "<class 'str'>\n"
     ]
    }
   ],
   "source": [
    "num3 = 4.43\n",
    "num3 = str('4.43')\n",
    "print(num3)\n",
    "print(type(num3))"
   ]
  },
  {
   "cell_type": "code",
   "execution_count": 10,
   "id": "01e93dc4-e38b-44d7-80c0-b8c37111a936",
   "metadata": {},
   "outputs": [
    {
     "name": "stdout",
     "output_type": "stream",
     "text": [
      "23\n",
      "<class 'int'>\n"
     ]
    }
   ],
   "source": [
    "num4 = '23'\n",
    "num4 = int('23')\n",
    "print(num4)\n",
    "print(type(num4))"
   ]
  },
  {
   "cell_type": "code",
   "execution_count": null,
   "id": "990fa8c4-ef57-462a-ad17-5cb9a5e52020",
   "metadata": {},
   "outputs": [],
   "source": [
    "\n",
    "\n",
    "Q3. Write a code to store your favorite food in a variable and print it.\n"
   ]
  },
  {
   "cell_type": "code",
   "execution_count": 19,
   "id": "0116ff70-279c-4cc8-8888-ae489066e7f6",
   "metadata": {},
   "outputs": [
    {
     "name": "stdout",
     "output_type": "stream",
     "text": [
      "M\n"
     ]
    }
   ],
   "source": [
    "m = 'mango'\n",
    "print('M')"
   ]
  },
  {
   "cell_type": "code",
   "execution_count": null,
   "id": "397f0c4f-d9ac-4b44-a245-2b655ebd5ab4",
   "metadata": {},
   "outputs": [],
   "source": [
    "Q4. \"I have 22 apples and 33 mangoes. How many fruits do I have in total?\"\n",
    "\n",
    "apple = '22'\n",
    "\n",
    "mangoes = 33\n"
   ]
  },
  {
   "cell_type": "code",
   "execution_count": 31,
   "id": "8127805d-6292-43c6-a291-9bf4fbe5429b",
   "metadata": {},
   "outputs": [
    {
     "data": {
      "text/plain": [
       "55"
      ]
     },
     "execution_count": 31,
     "metadata": {},
     "output_type": "execute_result"
    }
   ],
   "source": [
    "apple = '22'\n",
    "mangoes = 33\n",
    "apple = int('22')\n",
    "22 + 33"
   ]
  },
  {
   "cell_type": "code",
   "execution_count": null,
   "id": "0d240a3a-a3a7-4131-9850-10c1e4b3a36d",
   "metadata": {},
   "outputs": [],
   "source": [
    "Q5. Store in a varibale: Write Your name , Your age, Add 1 to your age using a variable, Print final age"
   ]
  },
  {
   "cell_type": "code",
   "execution_count": 55,
   "id": "afa1a2af-8ba5-4921-893d-07a7d1440e11",
   "metadata": {},
   "outputs": [
    {
     "name": "stdout",
     "output_type": "stream",
     "text": [
      "Ahsan\n"
     ]
    },
    {
     "data": {
      "text/plain": [
       "40"
      ]
     },
     "execution_count": 55,
     "metadata": {},
     "output_type": "execute_result"
    }
   ],
   "source": [
    "name = \"Ahsan\"\n",
    "age = 39\n",
    "z = 1\n",
    "print(name)\n",
    "age + z\n"
   ]
  },
  {
   "cell_type": "code",
   "execution_count": null,
   "id": "7b114bba-4aca-4945-84b4-ba3fb2f47256",
   "metadata": {},
   "outputs": [],
   "source": [
    "Q6.\n",
    "\n",
    "a = 2\n",
    "\n",
    "b = 1\n",
    "\n",
    "c = 6\n",
    "\n",
    "d = 3\n",
    "\n",
    "    Add a and b\n",
    "\n",
    "    Subtract c and a\n",
    "\n",
    "    Multiply d and b\n",
    "\n",
    "    Divide c and d (float division)\n",
    "\n",
    "    Find modulus of c divided by d\n",
    "\n",
    "    Square of (d+a)\n",
    "\n"
   ]
  },
  {
   "cell_type": "code",
   "execution_count": 65,
   "id": "78878161-a14d-44ff-86d0-8add0fe45ffc",
   "metadata": {},
   "outputs": [
    {
     "ename": "NameError",
     "evalue": "name 'sum_value' is not defined",
     "output_type": "error",
     "traceback": [
      "\u001b[1;31m---------------------------------------------------------------------------\u001b[0m",
      "\u001b[1;31mNameError\u001b[0m                                 Traceback (most recent call last)",
      "Cell \u001b[1;32mIn[65], line 17\u001b[0m\n\u001b[0;32m     15\u001b[0m a \u001b[38;5;241m=\u001b[39m \u001b[38;5;241m2\u001b[39m\n\u001b[0;32m     16\u001b[0m d\u001b[38;5;241m+\u001b[39ma\n\u001b[1;32m---> 17\u001b[0m sum_value\u001b[38;5;241m*\u001b[39m\u001b[38;5;241m*\u001b[39m\u001b[38;5;241m2\u001b[39m\n",
      "\u001b[1;31mNameError\u001b[0m: name 'sum_value' is not defined"
     ]
    }
   ],
   "source": [
    "a = 2\n",
    "\n",
    "b = 1\n",
    "\n",
    "c = 6\n",
    "\n",
    "d = 3\n",
    "\n",
    "a + b\n",
    "c - a\n",
    "d * b\n",
    "float(c/d)\n",
    "c%d\n",
    "d = 3\n",
    "a = 2\n",
    "d+a\n",
    "sum_value**2\n"
   ]
  },
  {
   "cell_type": "code",
   "execution_count": null,
   "id": "5f5d6e84-03a3-43c8-8ffe-c16dcfc946b5",
   "metadata": {},
   "outputs": [],
   "source": [
    "Q7.\n",
    "\n",
    "a = '2'\n",
    "\n",
    "b = '11'\n",
    "\n",
    "c = 6.3\n",
    "\n",
    "    Convert a to integer then add to c\n",
    "\n",
    "    Convert b to float then multiply by c\n",
    "\n",
    "    Convert c to integer then add to c\n",
    "\n",
    "\n"
   ]
  },
  {
   "cell_type": "code",
   "execution_count": 66,
   "id": "b6f9d6f3-b55d-4ec7-89e9-9ab933ec5632",
   "metadata": {},
   "outputs": [
    {
     "data": {
      "text/plain": [
       "12"
      ]
     },
     "execution_count": 66,
     "metadata": {},
     "output_type": "execute_result"
    }
   ],
   "source": [
    "a = '2'\n",
    "b = '11'\n",
    "c = 6.3\n",
    "a = int('2')\n",
    "a+c\n",
    "b = float('11')\n",
    "b*c\n",
    "c=int(6.3)\n",
    "c+c"
   ]
  },
  {
   "cell_type": "code",
   "execution_count": null,
   "id": "48dda9bb-9695-49c7-876a-e5a15c23367e",
   "metadata": {},
   "outputs": [],
   "source": [
    "Q8.\n",
    "\n",
    "You were 20 years old in the year 2020. Now add 5 more years to your age. What is your current age now?\n",
    "\n",
    "Store age in a variable called age. Print final output in same variable\n"
   ]
  },
  {
   "cell_type": "code",
   "execution_count": 73,
   "id": "f68e4a3b-a0e2-435a-b9b1-1f564560f164",
   "metadata": {},
   "outputs": [
    {
     "name": "stdout",
     "output_type": "stream",
     "text": [
      "25\n"
     ]
    }
   ],
   "source": [
    "age = 20\n",
    "age = age+5\n",
    "print(age)"
   ]
  },
  {
   "cell_type": "code",
   "execution_count": null,
   "id": "e2e07cdd-0c68-4df7-b8e5-862a5b0d8b65",
   "metadata": {},
   "outputs": [],
   "source": [
    "Q9.\n",
    "\n",
    "You had 12 books, and you gave 4 to your friend. How many books do you have now?\n",
    "\n",
    "Store books in a variable called books. Print final output in same variable\n"
   ]
  },
  {
   "cell_type": "code",
   "execution_count": 75,
   "id": "51215268-63da-4a12-bada-29777cabf9e8",
   "metadata": {},
   "outputs": [
    {
     "name": "stdout",
     "output_type": "stream",
     "text": [
      "8\n"
     ]
    }
   ],
   "source": [
    "books = 12\n",
    "books = 12-4\n",
    "print(books)"
   ]
  },
  {
   "cell_type": "code",
   "execution_count": null,
   "id": "a10f9ade-3a6a-4845-ac1f-50e2ae9d0af3",
   "metadata": {},
   "outputs": [],
   "source": [
    "Q10.\n",
    "\n",
    "You baked 5 cookies. You baked 3 times more cookies today. How many cookies did you bake today?\n",
    "\n",
    "Store cookies in a variable called cookies. Print final output in same variable\n"
   ]
  },
  {
   "cell_type": "code",
   "execution_count": 78,
   "id": "86159d5b-716e-4b08-a079-bf5f876ca224",
   "metadata": {},
   "outputs": [
    {
     "name": "stdout",
     "output_type": "stream",
     "text": [
      "15\n"
     ]
    }
   ],
   "source": [
    "cookies = 5\n",
    "cookies = 5*3\n",
    "print(cookies)"
   ]
  },
  {
   "cell_type": "code",
   "execution_count": null,
   "id": "57630b09-e846-4855-a175-c0e576543c1c",
   "metadata": {},
   "outputs": [],
   "source": []
  }
 ],
 "metadata": {
  "kernelspec": {
   "display_name": "Python 3 (ipykernel)",
   "language": "python",
   "name": "python3"
  },
  "language_info": {
   "codemirror_mode": {
    "name": "ipython",
    "version": 3
   },
   "file_extension": ".py",
   "mimetype": "text/x-python",
   "name": "python",
   "nbconvert_exporter": "python",
   "pygments_lexer": "ipython3",
   "version": "3.13.5"
  }
 },
 "nbformat": 4,
 "nbformat_minor": 5
}
