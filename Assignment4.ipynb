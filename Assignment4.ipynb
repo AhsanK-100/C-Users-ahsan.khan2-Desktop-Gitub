{
 "cells": [
  {
   "cell_type": "markdown",
   "id": "f50c28f8-19de-40ce-b6fe-360f1542676f",
   "metadata": {},
   "source": [
    "1-\n",
    "\n",
    "text = 'hello python world'\n",
    "\n",
    "Replace spaces with underscores in the string (e.g., \"hello python world\" → \"hello_python_world\").\n",
    "\n",
    "Split the modified string (e.g., \"hello_python_world\" → ['hello', 'python', 'world']).\n",
    "\n",
    "Print all two results\n",
    "\n",
    "Hint: Use string methods"
   ]
  },
  {
   "cell_type": "code",
   "execution_count": 1,
   "id": "bb43dc7b-fd05-4cc9-ab46-7981ca534bb1",
   "metadata": {},
   "outputs": [
    {
     "data": {
      "text/plain": [
       "'hello_python_world'"
      ]
     },
     "execution_count": 1,
     "metadata": {},
     "output_type": "execute_result"
    }
   ],
   "source": [
    "'hello python world'.replace(' ','_')"
   ]
  },
  {
   "cell_type": "code",
   "execution_count": 13,
   "id": "7acc5a94-7aaf-48d5-a152-504245f63afa",
   "metadata": {},
   "outputs": [
    {
     "data": {
      "text/plain": [
       "['hello', 'python', 'world']"
      ]
     },
     "execution_count": 13,
     "metadata": {},
     "output_type": "execute_result"
    }
   ],
   "source": [
    "'hello_python_world'.split('_')"
   ]
  },
  {
   "cell_type": "markdown",
   "id": "f36c5e03-9efc-40f9-833c-23864268173e",
   "metadata": {},
   "source": [
    "2- You have a product code that follows the format \"SKU-12345-XYZ\".\n",
    "\n",
    "Find the first position of the dash (-).\n",
    "\n",
    "Count the number of dashes (-) in the product code.\n",
    "\n",
    "Remove the \"SKU-\" prefix and \"-XYZ\" suffix from the product code, Extract the numeric part 12345\n",
    "\n",
    "product_code = \"SKU-12345-XYZ\"\n",
    "\n",
    "Hint: Use String Methods"
   ]
  },
  {
   "cell_type": "code",
   "execution_count": 67,
   "id": "3a5c3a8f-8baf-42ea-8667-f0fc02cb77d5",
   "metadata": {},
   "outputs": [
    {
     "data": {
      "text/plain": [
       "3"
      ]
     },
     "execution_count": 67,
     "metadata": {},
     "output_type": "execute_result"
    }
   ],
   "source": [
    "\"SKU-12345-XYZ\".find(\"-\")"
   ]
  },
  {
   "cell_type": "code",
   "execution_count": 38,
   "id": "b3b8266e-379d-46ec-88aa-99279efdda82",
   "metadata": {},
   "outputs": [
    {
     "data": {
      "text/plain": [
       "2"
      ]
     },
     "execution_count": 38,
     "metadata": {},
     "output_type": "execute_result"
    }
   ],
   "source": [
    "\"SKU-12345-XYZ\".count(\"-\")"
   ]
  },
  {
   "cell_type": "code",
   "execution_count": 90,
   "id": "a44c086f-2c1d-4aab-897b-7073924e00ca",
   "metadata": {},
   "outputs": [
    {
     "name": "stdout",
     "output_type": "stream",
     "text": [
      "12345\n"
     ]
    }
   ],
   "source": [
    "product_code = \"SKU-12345-XYZ\"\n",
    "product_code\n",
    "print(\"SKU-12345-XYZ\".split(\"-\")[1])"
   ]
  },
  {
   "cell_type": "markdown",
   "id": "0d504f74-c0d6-4890-9580-7890bc1dcb43",
   "metadata": {},
   "source": [
    "3- Convert a string to Title Case.\n",
    "\n",
    "text_1 = \"hello world\"\n"
   ]
  },
  {
   "cell_type": "code",
   "execution_count": 96,
   "id": "f5a10e5b-dfa6-4310-b7f2-31b864eb2337",
   "metadata": {},
   "outputs": [
    {
     "name": "stdout",
     "output_type": "stream",
     "text": [
      "Hello World\n"
     ]
    }
   ],
   "source": [
    "text_1 = \"hello world\"\n",
    "print(text_1.title())"
   ]
  },
  {
   "cell_type": "markdown",
   "id": "69a00670-3bd2-4380-bfd6-46f87255ef19",
   "metadata": {},
   "source": [
    "4- Capitalize the first letter of a string.\n",
    "\n",
    "text_2 = \"python programming\""
   ]
  },
  {
   "cell_type": "code",
   "execution_count": 112,
   "id": "cff16148-044e-44bd-8d11-b795230af683",
   "metadata": {},
   "outputs": [
    {
     "data": {
      "text/plain": [
       "'Python programming'"
      ]
     },
     "execution_count": 112,
     "metadata": {},
     "output_type": "execute_result"
    }
   ],
   "source": [
    "text_2 = \"python programming\"\n",
    "text_2.capitalize()"
   ]
  },
  {
   "cell_type": "markdown",
   "id": "24a9ded0-9b42-4107-bdd3-da5af3dc1414",
   "metadata": {},
   "source": [
    "5- Given the string below, write Python code to:\n",
    "\n",
    "Convert the string so that each word starts with a capital letter\n",
    "\n",
    "Then swap the case of every letter in the resulting string\n",
    "\n",
    "Print the final result.\n",
    "\n",
    "text1 = \"learning PYTHON is AWESOME\""
   ]
  },
  {
   "cell_type": "code",
   "execution_count": 125,
   "id": "629fba97-dc1c-4912-8f7d-9ef9da77923f",
   "metadata": {},
   "outputs": [
    {
     "name": "stdout",
     "output_type": "stream",
     "text": [
      "lEARNING pYTHON iS aWESOME\n"
     ]
    }
   ],
   "source": [
    "text1 = \"learning PYTHON is AWESOME\"\n",
    "text1=text1.title()\n",
    "text1=text1.swapcase()\n",
    "print(text1)\n"
   ]
  },
  {
   "cell_type": "markdown",
   "id": "99163be0-8b38-4d39-a4d6-8099e6a6eee7",
   "metadata": {},
   "source": [
    "6- \n",
    "\n",
    "Write Python code to check and print whether the string satisfies the following:\n",
    "\n",
    "Is alphanumeric?\n",
    "\n",
    "Is alphabetic only?\n",
    "\n",
    "text2 = \"HelloWorld123\"\n"
   ]
  },
  {
   "cell_type": "code",
   "execution_count": 128,
   "id": "7078315f-1120-431e-ab92-a64c99106af6",
   "metadata": {},
   "outputs": [
    {
     "name": "stdout",
     "output_type": "stream",
     "text": [
      "False\n",
      "False\n"
     ]
    }
   ],
   "source": [
    "text2 = \"HelloWorld123\"\n",
    "print(text2.isalpha())\n",
    "print(text2.isnumeric())"
   ]
  },
  {
   "cell_type": "markdown",
   "id": "86df8b45-2f46-4da8-b56b-e8967309738d",
   "metadata": {},
   "source": [
    "7- \n",
    "\n",
    "Write Python code to check and print whether the string satisfies the following:\n",
    "\n",
    "Is the string made up of digits only?\n",
    "\n",
    "Is the string all lowercase?\n",
    "\n",
    "text3 = \"helloworld\""
   ]
  },
  {
   "cell_type": "code",
   "execution_count": 141,
   "id": "7768c74d-e69d-4cf3-8f28-f414c4d9f893",
   "metadata": {},
   "outputs": [
    {
     "name": "stdout",
     "output_type": "stream",
     "text": [
      "False\n",
      "True\n"
     ]
    }
   ],
   "source": [
    "text3 = \"helloworld\"\n",
    "print(text3.isdigit())\n",
    "print(text3.islower())"
   ]
  },
  {
   "cell_type": "markdown",
   "id": "d5abaffa-dab0-4c62-94a6-7639e02d4753",
   "metadata": {},
   "source": [
    "8-\n",
    "\n",
    "Write Python code to check and print whether the string satisfies the following:\n",
    "\n",
    "Is the string all uppercase?\n",
    "\n",
    "Is the string titlecased?\n",
    "\n",
    "text4 = 'Hi We Are Learning Python'"
   ]
  },
  {
   "cell_type": "code",
   "execution_count": 144,
   "id": "208bcb7c-f80c-4234-bebe-890ae99809e1",
   "metadata": {},
   "outputs": [
    {
     "name": "stdout",
     "output_type": "stream",
     "text": [
      "HI WE ARE LEARNING PYTHON\n",
      "True\n"
     ]
    }
   ],
   "source": [
    "text4 = 'Hi We Are Learning Python'\n",
    "print(text4.upper())\n",
    "print(text4.istitle())"
   ]
  },
  {
   "cell_type": "markdown",
   "id": "005214b5-3e90-488d-9f1a-19fa65b5c830",
   "metadata": {},
   "source": [
    "9- \n",
    "\n",
    "Write Python code to check and print whether the string:\n",
    "\n",
    "Starts with \"data\"\n",
    "\n",
    "Ends with \".csv\"\n",
    "\n",
    "text5 = \"data_report_2023.csv\"\n"
   ]
  },
  {
   "cell_type": "code",
   "execution_count": 150,
   "id": "594c8726-2308-4818-a7a9-7dec5edf7775",
   "metadata": {},
   "outputs": [
    {
     "name": "stdout",
     "output_type": "stream",
     "text": [
      "True\n",
      "True\n"
     ]
    }
   ],
   "source": [
    "text5 = \"data_report_2023.csv\"\n",
    "print(text5.startswith(\"data\"))\n",
    "print(text5.endswith(\"csv\"))"
   ]
  },
  {
   "cell_type": "markdown",
   "id": "80bc03e1-c9aa-4c73-ab02-8065a93f0ce5",
   "metadata": {},
   "source": [
    "10-\n",
    "\n",
    "Write Python code to:\n",
    "\n",
    "Count how many times \"banana\" appears in the string.\n",
    "\n",
    "fruit = \"banana bandana banana\"\n"
   ]
  },
  {
   "cell_type": "code",
   "execution_count": 152,
   "id": "13193e78-920a-45db-9c98-c89e8c270ecd",
   "metadata": {},
   "outputs": [
    {
     "data": {
      "text/plain": [
       "2"
      ]
     },
     "execution_count": 152,
     "metadata": {},
     "output_type": "execute_result"
    }
   ],
   "source": [
    "fruit = \"banana bandana banana\"\n",
    "fruit.count(\"banana\")"
   ]
  },
  {
   "cell_type": "code",
   "execution_count": null,
   "id": "2786f26b-c53f-4c9c-89c8-1db6d4cddb9c",
   "metadata": {},
   "outputs": [],
   "source": []
  }
 ],
 "metadata": {
  "kernelspec": {
   "display_name": "Python 3 (ipykernel)",
   "language": "python",
   "name": "python3"
  },
  "language_info": {
   "codemirror_mode": {
    "name": "ipython",
    "version": 3
   },
   "file_extension": ".py",
   "mimetype": "text/x-python",
   "name": "python",
   "nbconvert_exporter": "python",
   "pygments_lexer": "ipython3",
   "version": "3.13.5"
  }
 },
 "nbformat": 4,
 "nbformat_minor": 5
}
